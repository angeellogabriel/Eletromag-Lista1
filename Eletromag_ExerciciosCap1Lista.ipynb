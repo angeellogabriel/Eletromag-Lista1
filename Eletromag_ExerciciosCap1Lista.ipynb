{
  "cells": [
    {
      "cell_type": "markdown",
      "metadata": {
        "id": "view-in-github",
        "colab_type": "text"
      },
      "source": [
        "<a href=\"https://colab.research.google.com/github/angeellogabriel/Eletromag-Lista1/blob/main/Eletromag_ExerciciosCap1Lista.ipynb\" target=\"_parent\"><img src=\"https://colab.research.google.com/assets/colab-badge.svg\" alt=\"Open In Colab\"/></a>"
      ]
    },
    {
      "cell_type": "code",
      "execution_count": 179,
      "metadata": {
        "colab": {
          "base_uri": "https://localhost:8080/",
          "height": 78
        },
        "id": "lumd1138lceT",
        "outputId": "38672279-a0c1-4d27-8939-22630dc10c2a"
      },
      "outputs": [
        {
          "output_type": "execute_result",
          "data": {
            "text/plain": [
              "Matrix([\n",
              "[ -0.87],\n",
              "[-0.348],\n",
              "[-0.348]])"
            ],
            "text/latex": "$\\displaystyle \\left[\\begin{matrix}-0.87\\\\-0.348\\\\-0.348\\end{matrix}\\right]$"
          },
          "metadata": {},
          "execution_count": 179
        }
      ],
      "source": [
        "# Exercicio 1.1 \n",
        "\n",
        "#determine o vetor unitario ao longo da linha que une o ponto (2, 4, 4) ao ponto (-3, 2, 2)\n",
        "\n",
        "import sympy\n",
        "\n",
        "\n",
        "x1, y1, z1 = sympy.symbols('x1 y1 z1')\n",
        "x2, y2, z2 = sympy.symbols('x2 y2 z2')\n",
        "\n",
        "\n",
        "p1 = (2, 4, 4)\n",
        "p2 = (-3, 2, 2)\n",
        "\n",
        "\n",
        "V = sympy.Matrix([x2-x1, y2-y1, z2-z1]).subs({x1:p1[0], y1:p1[1], z1:p1[2], x2:p2[0], y2:p2[1], z2:p2[2]})\n",
        "\n",
        "norm_V = V.norm()\n",
        "\n",
        "u = V/norm_V\n",
        "\n",
        "u.evalf(3)\n"
      ]
    },
    {
      "cell_type": "code",
      "execution_count": 180,
      "metadata": {
        "colab": {
          "base_uri": "https://localhost:8080/",
          "height": 78
        },
        "id": "5_FTqXLTlceV",
        "outputId": "57cc5201-358c-4f14-db16-75f465a1349d"
      },
      "outputs": [
        {
          "output_type": "execute_result",
          "data": {
            "text/plain": [
              "Matrix([\n",
              "[ 8.0*a],\n",
              "[-3.0*a],\n",
              "[-3.0*a]])"
            ],
            "text/latex": "$\\displaystyle \\left[\\begin{matrix}8.0 a\\\\- 3.0 a\\\\- 3.0 a\\end{matrix}\\right]$"
          },
          "metadata": {},
          "execution_count": 180
        }
      ],
      "source": [
        "#Exercicio 1.2 \n",
        "\n",
        "#a)\n",
        "\n",
        "import sympy\n",
        "\n",
        "a, x, y, z = sympy.symbols('a x y z')\n",
        "\n",
        "A = sympy.Matrix([2*a, 5*a, -3*a])\n",
        "B = sympy.Matrix([3*a, -4*a, 0])\n",
        "C = sympy.Matrix([a, a, a])\n",
        "\n",
        "soma = A + 2*B\n",
        "\n",
        "soma.evalf()\n"
      ]
    },
    {
      "cell_type": "code",
      "execution_count": 181,
      "metadata": {
        "colab": {
          "base_uri": "https://localhost:8080/",
          "height": 41
        },
        "id": "HK3vs6yKlceW",
        "outputId": "18d58b13-6e48-4220-e962-1ea231d7fb3e"
      },
      "outputs": [
        {
          "output_type": "execute_result",
          "data": {
            "text/plain": [
              "8.54*(a**2)**0.5"
            ],
            "text/latex": "$\\displaystyle 8.54 \\left(a^{2}\\right)^{0.5}$"
          },
          "metadata": {},
          "execution_count": 181
        }
      ],
      "source": [
        "#b)\n",
        "\n",
        "import sympy\n",
        "\n",
        "\n",
        "a, x, y, z = sympy.symbols('a x y z')\n",
        "\n",
        "\n",
        "A = sympy.Matrix([2*a, 5*a, -3*a])\n",
        "B = sympy.Matrix([3*a, -4*a, 0])\n",
        "C = sympy.Matrix([a, a, a])\n",
        "\n",
        "\n",
        "diferenca = A - 5*C\n",
        "\n",
        "modulo = sympy.sqrt(diferenca.dot(diferenca))\n",
        "\n",
        "modulo.evalf(3)\n",
        "\n",
        "\n"
      ]
    },
    {
      "cell_type": "code",
      "execution_count": 182,
      "metadata": {
        "colab": {
          "base_uri": "https://localhost:8080/",
          "height": 95
        },
        "id": "Gzb61fzTlceX",
        "outputId": "dfff2af9-3367-4fa0-a96a-c5a42ee91a5e"
      },
      "outputs": [
        {
          "output_type": "stream",
          "name": "stdout",
          "text": [
            "Matrix([[6/7], [9/14], [23/14]])\n"
          ]
        },
        {
          "output_type": "execute_result",
          "data": {
            "text/plain": [
              "Matrix([\n",
              "[0.857],\n",
              "[0.643],\n",
              "[ 1.64]])"
            ],
            "text/latex": "$\\displaystyle \\left[\\begin{matrix}0.857\\\\0.643\\\\1.64\\end{matrix}\\right]$"
          },
          "metadata": {},
          "execution_count": 182
        }
      ],
      "source": [
        "#c)\n",
        "\n",
        "import sympy\n",
        "\n",
        "\n",
        "a, x, y, z = sympy.symbols('a x y z')\n",
        "\n",
        "\n",
        "A = sympy.Matrix([2*a, 5*a, -3*a])\n",
        "B = sympy.Matrix([3*a, -4*a, 0])\n",
        "\n",
        "\n",
        "produto_vetorial = A.cross(B)\n",
        "\n",
        "\n",
        "produto_escalar = A.dot(B)\n",
        "\n",
        "\n",
        "resultado = produto_vetorial / produto_escalar\n",
        "\n",
        "\n",
        "print(resultado)\n",
        "resultado.evalf(3)\n"
      ]
    },
    {
      "cell_type": "code",
      "execution_count": 183,
      "metadata": {
        "colab": {
          "base_uri": "https://localhost:8080/",
          "height": 95
        },
        "id": "LtG9XVNqlceX",
        "outputId": "2232f5bc-b06e-44b4-c2f6-bc275161dcfb"
      },
      "outputs": [
        {
          "output_type": "stream",
          "name": "stdout",
          "text": [
            "Matrix([[5*a*x], [4*a*y], [6*a*z]])\n"
          ]
        },
        {
          "output_type": "execute_result",
          "data": {
            "text/plain": [
              "Matrix([\n",
              "[5.0*a*x],\n",
              "[4.0*a*y],\n",
              "[6.0*a*z]])"
            ],
            "text/latex": "$\\displaystyle \\left[\\begin{matrix}5.0 a x\\\\4.0 a y\\\\6.0 a z\\end{matrix}\\right]$"
          },
          "metadata": {},
          "execution_count": 183
        }
      ],
      "source": [
        "#Exercicio 1.3\n",
        "\n",
        "#a)\n",
        "\n",
        "import sympy as sym\n",
        "\n",
        "a, x, y, z = sym.symbols('a x y z')\n",
        "\n",
        "A = sym.Matrix([2*a*x, a*y, -3*a*z])\n",
        "B = sym.Matrix([0, a*y, -a*z])\n",
        "C = sym.Matrix([3*a*x, 5*a*y, 7*a*z])\n",
        "\n",
        "resultado = A - 2*B + C\n",
        "\n",
        "print(resultado)\n",
        "resultado.evalf(3)\n"
      ]
    },
    {
      "cell_type": "code",
      "execution_count": 184,
      "metadata": {
        "colab": {
          "base_uri": "https://localhost:8080/",
          "height": 95
        },
        "id": "tm1AMteglceY",
        "outputId": "a78d522e-0f59-4316-eef1-8f6a7e8b8adf"
      },
      "outputs": [
        {
          "output_type": "stream",
          "name": "stdout",
          "text": [
            "Matrix([[-5*a*x], [-3*a*y], [23*a*z]])\n"
          ]
        },
        {
          "output_type": "execute_result",
          "data": {
            "text/plain": [
              "Matrix([\n",
              "[-5.0*a*x],\n",
              "[-3.0*a*y],\n",
              "[23.0*a*z]])"
            ],
            "text/latex": "$\\displaystyle \\left[\\begin{matrix}- 5.0 a x\\\\- 3.0 a y\\\\23.0 a z\\end{matrix}\\right]$"
          },
          "metadata": {},
          "execution_count": 184
        }
      ],
      "source": [
        "#b)\n",
        "\n",
        "import sympy as sym\n",
        "\n",
        "a, x, y, z = sym.symbols('a x y z')\n",
        "\n",
        "A = sym.Matrix([2*a*x, a*y, -3*a*z])\n",
        "B = sym.Matrix([0, a*y, -a*z])\n",
        "C = sym.Matrix([3*a*x, 5*a*y, 7*a*z])\n",
        "\n",
        "resultado = C - 4*(A + B)\n",
        "\n",
        "print(resultado)\n",
        "resultado.evalf(3)\n"
      ]
    },
    {
      "cell_type": "code",
      "execution_count": 185,
      "metadata": {
        "colab": {
          "base_uri": "https://localhost:8080/",
          "height": 106
        },
        "id": "6t0yCUVtlceY",
        "outputId": "d3b8d6e7-9513-42d2-a017-0d8f37d56c4e"
      },
      "outputs": [
        {
          "output_type": "stream",
          "name": "stdout",
          "text": [
            "Matrix([[4*a*x], [2*a*y - 3*a*y/sqrt(9*a**2*x**2 + 25*a**2*y**2 + 49*a**2*z**2)], [-6*a*z + 3*a*z/sqrt(9*a**2*x**2 + 25*a**2*y**2 + 49*a**2*z**2)]])\n"
          ]
        },
        {
          "output_type": "execute_result",
          "data": {
            "text/plain": [
              "Matrix([\n",
              "[                                                                 4.0*a*x],\n",
              "[-0.429*a*y/(0.184*a**2*x**2 + 0.51*a**2*y**2 + a**2*z**2)**0.5 + 2.0*a*y],\n",
              "[ 0.429*a*z/(0.184*a**2*x**2 + 0.51*a**2*y**2 + a**2*z**2)**0.5 - 6.0*a*z]])"
            ],
            "text/latex": "$\\displaystyle \\left[\\begin{matrix}4.0 a x\\\\- \\frac{0.429 a y}{\\left(0.184 a^{2} x^{2} + 0.51 a^{2} y^{2} + a^{2} z^{2}\\right)^{0.5}} + 2.0 a y\\\\\\frac{0.429 a z}{\\left(0.184 a^{2} x^{2} + 0.51 a^{2} y^{2} + a^{2} z^{2}\\right)^{0.5}} - 6.0 a z\\end{matrix}\\right]$"
          },
          "metadata": {},
          "execution_count": 185
        }
      ],
      "source": [
        "#c)\n",
        "\n",
        "import sympy as sym\n",
        "\n",
        "a, x, y, z = sym.symbols('a x y z')\n",
        "\n",
        "A = sym.Matrix([2*a*x, a*y, -3*a*z])\n",
        "B = sym.Matrix([0, a*y, -a*z])\n",
        "C = sym.Matrix([3*a*x, 5*a*y, 7*a*z])\n",
        "\n",
        "modC = sym.sqrt(C.dot(C))\n",
        "\n",
        "resultado = 2*A - 3*B/modC\n",
        "\n",
        "print(resultado)\n",
        "resultado.evalf(3)\n"
      ]
    },
    {
      "cell_type": "code",
      "execution_count": 186,
      "metadata": {
        "colab": {
          "base_uri": "https://localhost:8080/"
        },
        "id": "HyJCr18ElceY",
        "outputId": "8991bf24-af38-44b4-e989-68d59cfc89cb"
      },
      "outputs": [
        {
          "output_type": "stream",
          "name": "stdout",
          "text": [
            "-292.0\n"
          ]
        }
      ],
      "source": [
        "#d)\n",
        "\n",
        "import numpy as np\n",
        "\n",
        "a, x, y, z = 1, 2, 3, 4\n",
        "\n",
        "A = np.array([2*a*x, a*y, -3*a*z])\n",
        "B = np.array([0, a*y, -a*z])\n",
        "C = np.array([3*a*x, 5*a*y, 7*a*z])\n",
        "\n",
        "normB2 = np.linalg.norm(B)**2\n",
        "\n",
        "prodAC = np.dot(A, C)\n",
        "\n",
        "resultado = prodAC - normB2\n",
        "\n",
        "print(resultado)\n"
      ]
    },
    {
      "cell_type": "code",
      "execution_count": 187,
      "metadata": {
        "colab": {
          "base_uri": "https://localhost:8080/"
        },
        "id": "ygXSSmzilceZ",
        "outputId": "58ce4c54-ccd0-48cf-f09b-2d92fcfa67a4"
      },
      "outputs": [
        {
          "output_type": "stream",
          "name": "stdout",
          "text": [
            "[14.         -5.66666667 -4.25      ]\n"
          ]
        }
      ],
      "source": [
        "#e)\n",
        "\n",
        "import numpy as np\n",
        "\n",
        "a, x, y, z = 1, 2, 3, 4\n",
        "\n",
        "A = np.array([2*a*x, a*y, -3*a*z])\n",
        "B = np.array([0, a*y, -a*z])\n",
        "C = np.array([3*a*x, 5*a*y, 7*a*z])\n",
        "\n",
        "expr1 = (1/3)*A + (1/4)*C\n",
        "expr2 = (1/2)*B\n",
        "\n",
        "resultado = np.cross(expr2, expr1)\n",
        "\n",
        "print(resultado)\n",
        "\n"
      ]
    },
    {
      "cell_type": "code",
      "execution_count": 188,
      "metadata": {
        "colab": {
          "base_uri": "https://localhost:8080/"
        },
        "id": "H4e5oR28lceZ",
        "outputId": "6d7ddc3a-7b37-4d88-ff00-f078fd516dc9"
      },
      "outputs": [
        {
          "output_type": "stream",
          "name": "stdout",
          "text": [
            "Coordenadas de T: (3, -2, 1)\n",
            "Coordenadas de S: (4, 6, 2)\n"
          ]
        }
      ],
      "source": [
        "#Exercicio 1.4 \n",
        "\n",
        "from sympy import symbols\n",
        "\n",
        "a_x, a_y, a_z = symbols('a_x a_y a_z')\n",
        "\n",
        "vetor_T = 3*a_x - 2*a_y + a_z\n",
        "vetor_S = 4*a_x + 6*a_y + 2*a_z\n",
        "\n",
        "coord_x_T = vetor_T.coeff(a_x)\n",
        "coord_y_T = vetor_T.coeff(a_y)\n",
        "coord_z_T = vetor_T.coeff(a_z)\n",
        "\n",
        "coord_x_S = vetor_S.coeff(a_x)\n",
        "coord_y_S = vetor_S.coeff(a_y)\n",
        "coord_z_S = vetor_S.coeff(a_z)\n",
        "\n",
        "print(\"Coordenadas de T: ({}, {}, {})\".format(coord_x_T, coord_y_T, coord_z_T))\n",
        "print(\"Coordenadas de S: ({}, {}, {})\".format(coord_x_S, coord_y_S, coord_z_S))\n"
      ]
    },
    {
      "cell_type": "code",
      "execution_count": 189,
      "metadata": {
        "colab": {
          "base_uri": "https://localhost:8080/"
        },
        "id": "EiCp8Hkmlcea",
        "outputId": "579fa73d-7473-4f8e-abec-f36a1bd8fd4c"
      },
      "outputs": [
        {
          "output_type": "stream",
          "name": "stdout",
          "text": [
            "Valores de alpha e beta:\n",
            "alpha = -1.4748941318814268, beta = 0.5287356321839078\n"
          ]
        }
      ],
      "source": [
        "#Exercicio 1.5\n",
        "\n",
        "import numpy as np\n",
        "\n",
        "A = np.array([5, 3, 2])\n",
        "B = np.array([-1, 4, 6])\n",
        "C = np.array([8, 2, 0])\n",
        "\n",
        "sistema = np.vstack((A, B)).T\n",
        "lado_direito = -C\n",
        "\n",
        "solucao, _, _, _ = np.linalg.lstsq(sistema, lado_direito, rcond=None)\n",
        "\n",
        "alpha = solucao[0]\n",
        "beta = solucao[1]\n",
        "\n",
        "print(\"Valores de alpha e beta:\")\n",
        "print(\"alpha = {}, beta = {}\".format(alpha, beta))\n",
        "\n"
      ]
    },
    {
      "cell_type": "code",
      "execution_count": 190,
      "metadata": {
        "colab": {
          "base_uri": "https://localhost:8080/"
        },
        "id": "xIgcb8vjlcea",
        "outputId": "ab7f7f69-4dce-4d4f-cdc9-b11196c2dbe5"
      },
      "outputs": [
        {
          "output_type": "stream",
          "name": "stdout",
          "text": [
            "Valores de alpha, beta e gamma:\n",
            "alpha = 0.0, beta = 0.0, gamma = -0.0\n"
          ]
        }
      ],
      "source": [
        "#Exercicio 1.6\n",
        "\n",
        "import numpy as np\n",
        "\n",
        "coeficientes = np.array([[1, 3, 5],\n",
        "                        [0, 1, -2],\n",
        "                        [4, -6, 1]])\n",
        "\n",
        "resultados = np.array([0, 0, 0])\n",
        "\n",
        "solucao = np.linalg.solve(coeficientes, resultados)\n",
        "\n",
        "alpha_val = solucao[0]\n",
        "beta_val = solucao[1]\n",
        "gamma_val = solucao[2]\n",
        "\n",
        "print(\"Valores de alpha, beta e gamma:\")\n",
        "print(\"alpha = {}, beta = {}, gamma = {}\".format(alpha_val, beta_val, gamma_val))\n"
      ]
    },
    {
      "cell_type": "code",
      "execution_count": 191,
      "metadata": {
        "colab": {
          "base_uri": "https://localhost:8080/"
        },
        "id": "6bi4ilOQlcea",
        "outputId": "65c57819-4d94-4d0e-a4f9-e5f99b2498f4"
      },
      "outputs": [
        {
          "output_type": "stream",
          "name": "stdout",
          "text": [
            "A equação é falsa.\n"
          ]
        }
      ],
      "source": [
        "#Exercicio 1.7\n",
        "#a)\n",
        "\n",
        "import sympy as sp\n",
        "\n",
        "A1, A2, A3, B1, B2, B3 = sp.symbols('A1 A2 A3 B1 B2 B3')\n",
        "\n",
        "A = sp.Matrix([A1, A2, A3])\n",
        "B = sp.Matrix([B1, B2, B3])\n",
        "\n",
        "produto_AB = A.dot(B)\n",
        "\n",
        "produto_vetorial = A.cross(B)\n",
        "\n",
        "equacao_esquerda = (produto_AB**2) + produto_vetorial.dot(produto_vetorial)\n",
        "equacao_direita = (A.norm() * B.norm())**2\n",
        "if sp.simplify(equacao_esquerda - equacao_direita) == 0:\n",
        "    print(\"A equação é verdadeira.\")\n",
        "else:\n",
        "    print(\"A equação é falsa.\")\n"
      ]
    },
    {
      "cell_type": "code",
      "execution_count": 192,
      "metadata": {
        "colab": {
          "base_uri": "https://localhost:8080/"
        },
        "id": "CA9aHymClcea",
        "outputId": "663a6853-d64c-48be-8b7e-d68a5fc8d167"
      },
      "outputs": [
        {
          "output_type": "stream",
          "name": "stdout",
          "text": [
            "As igualdades são falsas.\n"
          ]
        }
      ],
      "source": [
        "#Exercicio 1.7\n",
        "#b)\n",
        "\n",
        "import sympy as sp\n",
        "\n",
        "ax, ay, az = sp.symbols('ax ay az')\n",
        "\n",
        "A = sp.Matrix([ax, ay, az])\n",
        "B = sp.Matrix([ay*az/(ax*ay*az), az*ax/(ay*az*ax), ax*ay/(ax*ay*az)])\n",
        "C = sp.Matrix([az*ax/(ay*ay*az), ax*ay/(ax*ay*az), ay*az/(ax*ay*az)])\n",
        "\n",
        "eq1 = sp.simplify(A.dot(B)**2 + (A.cross(B)).dot(A.cross(B)) - (A.dot(B))**2)\n",
        "eq2 = sp.simplify(B.dot(C)**2 + (B.cross(C)).dot(B.cross(C)) - (B.dot(C))**2)\n",
        "eq3 = sp.simplify(C.dot(A)**2 + (C.cross(A)).dot(C.cross(A)) - (C.dot(A))**2)\n",
        "\n",
        "if eq1 == 0 and eq2 == 0 and eq3 == 0:\n",
        "    print(\"As igualdades são verdadeiras.\")\n",
        "else:\n",
        "    print(\"As igualdades são falsas.\")\n"
      ]
    },
    {
      "cell_type": "code",
      "execution_count": 193,
      "metadata": {
        "colab": {
          "base_uri": "https://localhost:8080/",
          "height": 59
        },
        "id": "9JABcYL8lceb",
        "outputId": "d16f04f1-1ed0-40f0-ec6e-71c4c273a43c"
      },
      "outputs": [
        {
          "output_type": "stream",
          "name": "stdout",
          "text": [
            "|P + Q - C| =  sqrt(49*ax**2 + ay**2 + 4*az**2)\n"
          ]
        },
        {
          "output_type": "execute_result",
          "data": {
            "text/plain": [
              "7.0*(ax**2 + 0.0204081632653061*ay**2 + 0.0816326530612245*az**2)**0.5"
            ],
            "text/latex": "$\\displaystyle 7.0 \\left(ax^{2} + 0.0204081632653061 ay^{2} + 0.0816326530612245 az^{2}\\right)^{0.5}$"
          },
          "metadata": {},
          "execution_count": 193
        }
      ],
      "source": [
        "#Exercicio 1.8\n",
        "#a)\n",
        "\n",
        "import sympy as sp\n",
        "\n",
        "ax, ay, az = sp.symbols('ax ay az')\n",
        "\n",
        "P = sp.Matrix([2*ax, -ay, -2*az])\n",
        "Q = sp.Matrix([4*ax, 3*ay, 2*az])\n",
        "C = sp.Matrix([-ax, ay, 2*az])\n",
        "\n",
        "R = P + Q - C\n",
        "\n",
        "mod_R = sp.sqrt(R.dot(R))\n",
        "\n",
        "print(\"|P + Q - C| = \", mod_R)\n",
        "\n",
        "mod_R.evalf()\n"
      ]
    },
    {
      "cell_type": "code",
      "execution_count": 194,
      "metadata": {
        "colab": {
          "base_uri": "https://localhost:8080/",
          "height": 56
        },
        "id": "wWbrifLylceb",
        "outputId": "f7d95d42-216b-400c-afdb-2a6b2d6b2adc"
      },
      "outputs": [
        {
          "output_type": "stream",
          "name": "stdout",
          "text": [
            "P . Q x R =  -4*ax*ay*az\n"
          ]
        },
        {
          "output_type": "execute_result",
          "data": {
            "text/plain": [
              "-4.0*ax*ay*az"
            ],
            "text/latex": "$\\displaystyle - 4.0 ax ay az$"
          },
          "metadata": {},
          "execution_count": 194
        }
      ],
      "source": [
        "#b)\n",
        "\n",
        "import sympy as sp\n",
        "\n",
        "ax, ay, az = sp.symbols('ax ay az')\n",
        "\n",
        "P = sp.Matrix([2*ax, -ay, -2*az])\n",
        "Q = sp.Matrix([4*ax, 3*ay, 2*az])\n",
        "C = sp.Matrix([-ax, ay, 2*az])\n",
        "\n",
        "R = P + Q - C\n",
        "\n",
        "resultado = P.dot(Q.cross(R))\n",
        "\n",
        "print(\"P . Q x R = \", resultado)\n",
        "resultado.evalf()\n"
      ]
    },
    {
      "cell_type": "code",
      "execution_count": 195,
      "metadata": {
        "id": "7OmfyJ9alceb"
      },
      "outputs": [],
      "source": [
        "#c)\n",
        "#nao consegui fazer\n"
      ]
    },
    {
      "cell_type": "code",
      "execution_count": 196,
      "metadata": {
        "colab": {
          "base_uri": "https://localhost:8080/"
        },
        "id": "nXhWOAozlceb",
        "outputId": "f054d49e-778a-40e5-d3c3-430ff99dc807"
      },
      "outputs": [
        {
          "output_type": "stream",
          "name": "stdout",
          "text": [
            "(P x Q) . (Q x R) =  206\n"
          ]
        }
      ],
      "source": [
        "#d\n",
        "import numpy as np\n",
        "\n",
        "P = np.array([2, -1, -2])\n",
        "Q = np.array([4, 3, 2])\n",
        "R = np.array([-1, 1, 2]) \n",
        "\n",
        "prod_cruzado1 = np.cross(P, Q) \n",
        "\n",
        "prod_cruzado2 = np.cross(Q, R) \n",
        "\n",
        "resultado = np.dot(prod_cruzado1, prod_cruzado2)\n",
        "\n",
        "print(\"(P x Q) . (Q x R) = \", resultado)\n",
        "\n"
      ]
    },
    {
      "cell_type": "code",
      "execution_count": 197,
      "metadata": {
        "colab": {
          "base_uri": "https://localhost:8080/"
        },
        "id": "kthFLPVElcec",
        "outputId": "09ac4264-1bb7-41c1-f350-89b248335e43"
      },
      "outputs": [
        {
          "output_type": "stream",
          "name": "stdout",
          "text": [
            "(P x Q) x (Q x R) =  [16 12  8]\n"
          ]
        }
      ],
      "source": [
        "#e)\n",
        "\n",
        "import numpy as np\n",
        "\n",
        "P = np.array([2, -1, -2])\n",
        "Q = np.array([4, 3, 2])\n",
        "R = np.array([-1, 1, 2])\n",
        "\n",
        "prod_cruzado1 = np.cross(P, Q)\n",
        "\n",
        "prod_cruzado2 = np.cross(Q, R)\n",
        "\n",
        "prod_cruzado3 = np.cross(prod_cruzado1, prod_cruzado2)\n",
        "\n",
        "print(\"(P x Q) x (Q x R) = \", prod_cruzado3)\n",
        "\n"
      ]
    },
    {
      "cell_type": "code",
      "execution_count": 198,
      "metadata": {
        "colab": {
          "base_uri": "https://localhost:8080/"
        },
        "id": "867GrSeflcec",
        "outputId": "120b149d-25a0-419e-e2dd-0bc79fa7520f"
      },
      "outputs": [
        {
          "output_type": "stream",
          "name": "stdout",
          "text": [
            "cos(θ_PR) =  -0.9525793444156805\n"
          ]
        }
      ],
      "source": [
        "#f)\n",
        "\n",
        "import numpy as np\n",
        "\n",
        "P = np.array([2, -1, -2])\n",
        "R = np.array([-1, 1, 2])\n",
        "\n",
        "produtoPR = np.dot(P, R)\n",
        "\n",
        "mag_P = np.linalg.norm(P)\n",
        "mag_R = np.linalg.norm(R)\n",
        "\n",
        "cos_theta_PR = produtoPR / (mag_P * mag_R)\n",
        "\n",
        "print(\"cos(θ_PR) = \", cos_theta_PR)\n",
        "\n"
      ]
    },
    {
      "cell_type": "code",
      "execution_count": 199,
      "metadata": {
        "colab": {
          "base_uri": "https://localhost:8080/"
        },
        "id": "h9vtL_A4lcec",
        "outputId": "034b8d7e-6152-4112-b731-c4035e1dbfe7"
      },
      "outputs": [
        {
          "output_type": "stream",
          "name": "stdout",
          "text": [
            "sen(θ_PQ) =  0.9980824526939039\n"
          ]
        }
      ],
      "source": [
        "#g)\n",
        "\n",
        "import numpy as np\n",
        "\n",
        "P = np.array([2, -1, -2])\n",
        "Q = np.array([4, 3, 2])\n",
        "\n",
        "cross_product = np.cross(P, Q)\n",
        "\n",
        "mag_cross_product = np.linalg.norm(cross_product)\n",
        "\n",
        "mag_P = np.linalg.norm(P)\n",
        "mag_Q = np.linalg.norm(Q)\n",
        "\n",
        "sen_theta_PQ = mag_cross_product / (mag_P * mag_Q)\n",
        "\n",
        "print(\"sen(θ_PQ) = \", sen_theta_PQ)\n",
        "\n"
      ]
    },
    {
      "cell_type": "code",
      "execution_count": 200,
      "metadata": {
        "colab": {
          "base_uri": "https://localhost:8080/"
        },
        "id": "-vP0m3qMlcec",
        "outputId": "bf7c88fa-7fd2-4255-f006-b78b97f0c667"
      },
      "outputs": [
        {
          "output_type": "stream",
          "name": "stdout",
          "text": [
            "Projeção escalar de T sobre S:  -2.8577380332470415\n"
          ]
        }
      ],
      "source": [
        "#Exercicio 1.9\n",
        "#a)\n",
        "\n",
        "import numpy as np\n",
        "\n",
        "T = np.array([2, -6, 3])\n",
        "S = np.array([1, 2, 1])\n",
        "\n",
        "produto_escalar = np.dot(T, S)\n",
        "\n",
        "mag_S = np.linalg.norm(S)\n",
        "\n",
        "proj_T_S = produto_escalar / mag_S\n",
        "\n",
        "print(\"Projeção escalar de T sobre S: \", proj_T_S)\n",
        "\n"
      ]
    },
    {
      "cell_type": "code",
      "execution_count": 201,
      "metadata": {
        "colab": {
          "base_uri": "https://localhost:8080/"
        },
        "id": "kcigj6TFlced",
        "outputId": "8e895922-48d0-4fd8-d6a7-74b795c2d0e9"
      },
      "outputs": [
        {
          "output_type": "stream",
          "name": "stdout",
          "text": [
            "Vetor projeção de S sobre T:  [-0.28571429  0.85714286 -0.42857143]\n"
          ]
        }
      ],
      "source": [
        "#b)\n",
        "\n",
        "import numpy as np\n",
        "\n",
        "T = np.array([2, -6, 3])\n",
        "S = np.array([1, 2, 1])\n",
        "\n",
        "produto_escalar = np.dot(S, T)\n",
        "\n",
        "norma_T_quadrado = np.linalg.norm(T) ** 2\n",
        "\n",
        "proj_S_T = (produto_escalar / norma_T_quadrado) * T\n",
        "\n",
        "print(\"Vetor projeção de S sobre T: \", proj_S_T)\n",
        "\n"
      ]
    },
    {
      "cell_type": "code",
      "execution_count": 202,
      "metadata": {
        "colab": {
          "base_uri": "https://localhost:8080/"
        },
        "id": "bGkJJOX7lced",
        "outputId": "9cf5b8e8-e1ad-4791-89cb-9f11ad32bbe8"
      },
      "outputs": [
        {
          "output_type": "stream",
          "name": "stdout",
          "text": [
            "Menor ângulo entre T e S (em graus): 114.0948425521107\n"
          ]
        }
      ],
      "source": [
        "#c)\n",
        "import numpy as np\n",
        "\n",
        "T = np.array([2, -6, 3])\n",
        "S = np.array([1, 2, 1])\n",
        "\n",
        "produto_escalar = np.dot(T, S)\n",
        "\n",
        "norma_T = np.linalg.norm(T)\n",
        "norma_S = np.linalg.norm(S)\n",
        "\n",
        "cos_theta = produto_escalar / (norma_T * norma_S)\n",
        "\n",
        "theta_rad = np.arccos(cos_theta)\n",
        "\n",
        "theta_graus = np.degrees(theta_rad)\n",
        "\n",
        "print(\"Menor ângulo entre T e S (em graus):\", theta_graus)\n",
        "\n"
      ]
    },
    {
      "cell_type": "code",
      "execution_count": 203,
      "metadata": {
        "colab": {
          "base_uri": "https://localhost:8080/",
          "height": 76
        },
        "id": "tf7_-roplced",
        "outputId": "b7d8a15e-ab2a-49c5-de9f-462a6a0ba44f"
      },
      "outputs": [
        {
          "output_type": "execute_result",
          "data": {
            "text/plain": [
              "0.33*(-ax**2 + 12.0*ay**2 + 15.0*az**2)/(0.11*Abs(ax)**2 + 0.44*Abs(ay)**2 + Abs(az)**2)**0.5"
            ],
            "text/latex": "$\\displaystyle \\frac{0.33 \\left(- ax^{2} + 12.0 ay^{2} + 15.0 az^{2}\\right)}{\\left(0.11 \\left|{ax}\\right|^{2} + 0.44 \\left|{ay}\\right|^{2} + \\left|{az}\\right|^{2}\\right)^{0.5}}$"
          },
          "metadata": {},
          "execution_count": 203
        }
      ],
      "source": [
        "#Exercicio 1.10\n",
        "#a)\n",
        "from sympy import symbols, Matrix\n",
        "\n",
        "ax, ay, az = symbols('ax ay az')\n",
        "\n",
        "A = Matrix([-ax, 6*ay, 5*az])\n",
        "B = Matrix([ax, 2*ay, 3*az])\n",
        "\n",
        "produto_escalar = A.dot(B)\n",
        "\n",
        "norma_B = B.norm()\n",
        "\n",
        "proj_A_sobre_B = produto_escalar / norma_B\n",
        "\n",
        "proj_A_sobre_B.evalf(2)\n"
      ]
    },
    {
      "cell_type": "code",
      "execution_count": 204,
      "metadata": {
        "colab": {
          "base_uri": "https://localhost:8080/",
          "height": 109
        },
        "id": "EbvRe0snlced",
        "outputId": "e105225f-b6f3-47f2-a960-4b8d68cf597b"
      },
      "outputs": [
        {
          "output_type": "execute_result",
          "data": {
            "text/plain": [
              "Matrix([\n",
              "[   -ax*(-ax**2 + 12.0*ay**2 + 15.0*az**2)/(ax**2 + 36.0*ay**2 + 25.0*az**2)],\n",
              "[6.0*ay*(-ax**2 + 12.0*ay**2 + 15.0*az**2)/(ax**2 + 36.0*ay**2 + 25.0*az**2)],\n",
              "[5.0*az*(-ax**2 + 12.0*ay**2 + 15.0*az**2)/(ax**2 + 36.0*ay**2 + 25.0*az**2)]])"
            ],
            "text/latex": "$\\displaystyle \\left[\\begin{matrix}- \\frac{ax \\left(- ax^{2} + 12.0 ay^{2} + 15.0 az^{2}\\right)}{ax^{2} + 36.0 ay^{2} + 25.0 az^{2}}\\\\\\frac{6.0 ay \\left(- ax^{2} + 12.0 ay^{2} + 15.0 az^{2}\\right)}{ax^{2} + 36.0 ay^{2} + 25.0 az^{2}}\\\\\\frac{5.0 az \\left(- ax^{2} + 12.0 ay^{2} + 15.0 az^{2}\\right)}{ax^{2} + 36.0 ay^{2} + 25.0 az^{2}}\\end{matrix}\\right]$"
          },
          "metadata": {},
          "execution_count": 204
        }
      ],
      "source": [
        "#b)\n",
        "\n",
        "from sympy import symbols, Matrix\n",
        "\n",
        "ax, ay, az = symbols('ax ay az')\n",
        "\n",
        "A = Matrix([-ax, 6*ay, 5*az])\n",
        "B = Matrix([ax, 2*ay, 3*az])\n",
        "\n",
        "produto_escalar_BA = B.dot(A)\n",
        "\n",
        "produto_escalar_AA = A.dot(A)\n",
        "\n",
        "proj_B_sobre_A = (produto_escalar_BA / produto_escalar_AA) * A\n",
        "\n",
        "proj_B_sobre_A.evalf(2)\n",
        "\n"
      ]
    },
    {
      "cell_type": "code",
      "execution_count": 205,
      "metadata": {
        "colab": {
          "base_uri": "https://localhost:8080/",
          "height": 107
        },
        "id": "mqZweMnvlcee",
        "outputId": "d3306012-4e36-464a-bfe3-d9a53e235eab"
      },
      "outputs": [
        {
          "output_type": "execute_result",
          "data": {
            "text/plain": [
              "Matrix([\n",
              "[ 1.0*ay*az/(Abs(ax*ay)**2 + Abs(ax*az)**2 + Abs(ay*az)**2)**0.5],\n",
              "[ 1.0*ax*az/(Abs(ax*ay)**2 + Abs(ax*az)**2 + Abs(ay*az)**2)**0.5],\n",
              "[-1.0*ax*ay/(Abs(ax*ay)**2 + Abs(ax*az)**2 + Abs(ay*az)**2)**0.5]])"
            ],
            "text/latex": "$\\displaystyle \\left[\\begin{matrix}\\frac{1.0 ay az}{\\left(\\left|{ax ay}\\right|^{2} + \\left|{ax az}\\right|^{2} + \\left|{ay az}\\right|^{2}\\right)^{0.5}}\\\\\\frac{1.0 ax az}{\\left(\\left|{ax ay}\\right|^{2} + \\left|{ax az}\\right|^{2} + \\left|{ay az}\\right|^{2}\\right)^{0.5}}\\\\- \\frac{1.0 ax ay}{\\left(\\left|{ax ay}\\right|^{2} + \\left|{ax az}\\right|^{2} + \\left|{ay az}\\right|^{2}\\right)^{0.5}}\\end{matrix}\\right]$"
          },
          "metadata": {},
          "execution_count": 205
        }
      ],
      "source": [
        "#c)\n",
        "\n",
        "from sympy import symbols, Matrix\n",
        "\n",
        "ax, ay, az = symbols('ax ay az')\n",
        "\n",
        "A = Matrix([-ax, 6*ay, 5*az])\n",
        "B = Matrix([ax, 2*ay, 3*az])\n",
        "\n",
        "produto_vetorial_AB = A.cross(B)\n",
        "\n",
        "vetor_unit_perp = produto_vetorial_AB.normalized()\n",
        "\n",
        "vetor_unit_perp.evalf(2)\n",
        "\n",
        "\n"
      ]
    },
    {
      "cell_type": "code",
      "execution_count": 206,
      "metadata": {
        "colab": {
          "base_uri": "https://localhost:8080/"
        },
        "id": "kZWxn78clcee",
        "outputId": "2476e401-c998-4565-fe13-6247baed03ea"
      },
      "outputs": [
        {
          "output_type": "stream",
          "name": "stdout",
          "text": [
            "Ângulo com o eixo x: 72.36 graus\n",
            "Ângulo com o eixo y: 59.66 graus\n"
          ]
        }
      ],
      "source": [
        "#Exercicio 1.11\n",
        "\n",
        "import math\n",
        "\n",
        "H = [3, 5, -8]\n",
        "\n",
        "modulo_H = math.sqrt(H[0] ** 2 + H[1] ** 2 + H[2] ** 2)\n",
        "\n",
        "ang_x = math.acos(H[0] / modulo_H)\n",
        "ang_y = math.acos(H[1] / modulo_H)\n",
        "ang_z = math.acos(H[2] / modulo_H)\n",
        "\n",
        "ang_x_graus = math.degrees(ang_x)\n",
        "ang_y_graus = math.degrees(ang_y)\n",
        "ang_z_graus = math.degrees(ang_z)\n",
        "\n",
        "print(\"Ângulo com o eixo x: {:.2f} graus\".format(ang_x_graus))\n",
        "print(\"Ângulo com o eixo y: {:.2f} graus\".format(ang_y_graus))\n",
        "\n"
      ]
    },
    {
      "cell_type": "code",
      "execution_count": 207,
      "metadata": {
        "colab": {
          "base_uri": "https://localhost:8080/"
        },
        "id": "a9NOBnv4lcee",
        "outputId": "4e71bcc7-7082-4a17-beab-1864d92ba198"
      },
      "outputs": [
        {
          "output_type": "stream",
          "name": "stdout",
          "text": [
            "O produto escalar triplo de P, Q e R é: 5\n"
          ]
        }
      ],
      "source": [
        "#Exercicio 1.12\n",
        "\n",
        "import numpy as np\n",
        "\n",
        "P = np.array([2, -1, 1])\n",
        "Q = np.array([1, 1, 1])\n",
        "R = np.array([2, 0, 3])\n",
        "\n",
        "Q_cross_R = np.cross(Q, R)\n",
        "P_dot_Q_cross_R = np.dot(P, Q_cross_R)\n",
        "\n",
        "print(\"O produto escalar triplo de P, Q e R é:\", P_dot_Q_cross_R)\n",
        "\n"
      ]
    },
    {
      "cell_type": "code",
      "execution_count": 208,
      "metadata": {
        "colab": {
          "base_uri": "https://localhost:8080/",
          "height": 56
        },
        "id": "G1jYu2vXlcee",
        "outputId": "2172fdb7-18e5-4b04-e297-ff917d54238c"
      },
      "outputs": [
        {
          "output_type": "stream",
          "name": "stdout",
          "text": [
            "A x (A x B) simplificado:  A**2*B\n"
          ]
        },
        {
          "output_type": "execute_result",
          "data": {
            "text/plain": [
              "A**2*B"
            ],
            "text/latex": "$\\displaystyle A^{2} B$"
          },
          "metadata": {},
          "execution_count": 208
        }
      ],
      "source": [
        "#Exercicio 1.13\n",
        "#a)\n",
        "from sympy import symbols, simplify\n",
        "\n",
        "A, B = symbols('A B')\n",
        "\n",
        "exp = (A * (A * B)).expand()\n",
        "\n",
        "exp_simp = simplify(exp)\n",
        "\n",
        "print(\"A x (A x B) simplificado: \", exp_simp)\n",
        "exp_simp.evalf()\n",
        "\n"
      ]
    },
    {
      "cell_type": "code",
      "execution_count": 209,
      "metadata": {
        "colab": {
          "base_uri": "https://localhost:8080/",
          "height": 56
        },
        "id": "1RyMEBBolcee",
        "outputId": "328a4dd2-91b5-4758-caaa-106d94a67c73"
      },
      "outputs": [
        {
          "output_type": "stream",
          "name": "stdout",
          "text": [
            "A x [A x (A x B)] simplificado:  A**3*B\n"
          ]
        },
        {
          "output_type": "execute_result",
          "data": {
            "text/plain": [
              "A**3*B"
            ],
            "text/latex": "$\\displaystyle A^{3} B$"
          },
          "metadata": {},
          "execution_count": 209
        }
      ],
      "source": [
        "#Exercicio 1.13\n",
        "#b)\n",
        "\n",
        "from sympy import symbols, simplify\n",
        "\n",
        "A, B = symbols('A B')\n",
        "\n",
        "exp = A * (A * (A * B))\n",
        "\n",
        "exp_simp = simplify(exp)\n",
        "\n",
        "print(\"A x [A x (A x B)] simplificado: \", exp_simp)\n",
        "exp_simp.evalf()\n",
        "\n"
      ]
    },
    {
      "cell_type": "code",
      "execution_count": 210,
      "metadata": {
        "colab": {
          "base_uri": "https://localhost:8080/"
        },
        "id": "0Ng3tu8jlcef",
        "outputId": "e11134a2-7c92-43a0-e4fd-529e07187dde"
      },
      "outputs": [
        {
          "output_type": "stream",
          "name": "stdout",
          "text": [
            "Os sinais de ponto e de vezes podem ser intercambiados no produto escalar triplo.\n"
          ]
        }
      ],
      "source": [
        "#Exercicio 1.14\n",
        "\n",
        "import numpy as np\n",
        "\n",
        "A = np.array([1, 2, 3])\n",
        "B = np.array([4, 5, 6])\n",
        "C = np.array([7, 8, 9])\n",
        "\n",
        "lado_esq = np.dot(A, np.cross(B, C))\n",
        "\n",
        "lado_dir = np.dot(np.cross(A, B), C)\n",
        "\n",
        "lado_dir_simp = np.dot(np.cross(B, C), A)\n",
        "\n",
        "if lado_esq == lado_dir_simp:\n",
        "    print(\"Os sinais de ponto e de vezes podem ser intercambiados no produto escalar triplo.\")\n",
        "else:\n",
        "    print(\"Os sinais de ponto e de vezes NÃO podem ser intercambiados no produto escalar triplo.\")\n",
        "\n"
      ]
    },
    {
      "cell_type": "code",
      "execution_count": 211,
      "metadata": {
        "colab": {
          "base_uri": "https://localhost:8080/"
        },
        "id": "L3wajW5xlcef",
        "outputId": "d22ca162-e9db-4008-b696-235aa03b7c1d"
      },
      "outputs": [
        {
          "output_type": "stream",
          "name": "stdout",
          "text": [
            "A área do triângulo é: 25.71964229922337\n"
          ]
        }
      ],
      "source": [
        "#Exercicio 1.15\n",
        "\n",
        "import numpy as np\n",
        "\n",
        "P_1 = np.array([1, 2, 3])\n",
        "P_2 = np.array([-5, 2, 0])\n",
        "P_3 = np.array([2, 7, -3])\n",
        "\n",
        "v1 = P_2 - P_1\n",
        "v2 = P_3 - P_1\n",
        "\n",
        "prod_vet = np.cross(v1, v2)\n",
        "\n",
        "area = 0.5 * np.linalg.norm(prod_vet)\n",
        "\n",
        "print(\"A área do triângulo é:\", area)\n",
        "\n",
        "\n"
      ]
    },
    {
      "cell_type": "code",
      "execution_count": 212,
      "metadata": {
        "colab": {
          "base_uri": "https://localhost:8080/"
        },
        "id": "7O7pTXr-lcef",
        "outputId": "2bac3115-8e63-4e26-f170-6a7a0164f836"
      },
      "outputs": [
        {
          "output_type": "stream",
          "name": "stdout",
          "text": [
            "Os três ângulos do triângulo são:\n",
            "Ângulo 1: 36.57798437579925 graus\n",
            "Ângulo 2: 81.19516704725245 graus\n",
            "Ângulo 3: 62.2268485769483 graus\n"
          ]
        }
      ],
      "source": [
        "#Exercicio 1.16 \n",
        "\n",
        "import numpy as np\n",
        "\n",
        "P_1 = np.array([4, 1, -3])\n",
        "P_2 = np.array([-2, -5, 4])\n",
        "P_3 = np.array([0, 1, 6])\n",
        "\n",
        "def calcular_angulo(v1, v2):\n",
        "    cos_theta = np.dot(v1, v2) / (np.linalg.norm(v1) * np.linalg.norm(v2))\n",
        "    return np.degrees(np.arccos(cos_theta))\n",
        "\n",
        "v1 = P_2 - P_1\n",
        "v2 = P_3 - P_1\n",
        "\n",
        "ang1 = calcular_angulo(v1, v2)\n",
        "ang2 = calcular_angulo(v2, P_3 - P_2)\n",
        "ang3 = 180 - ang1 - ang2\n",
        "\n",
        "print(\"Os três ângulos do triângulo são:\")\n",
        "print(\"Ângulo 1:\", ang1, \"graus\")\n",
        "print(\"Ângulo 2:\", ang2, \"graus\")\n",
        "print(\"Ângulo 3:\", ang3, \"graus\")\n",
        "\n"
      ]
    },
    {
      "cell_type": "code",
      "execution_count": 213,
      "metadata": {
        "colab": {
          "base_uri": "https://localhost:8080/"
        },
        "id": "CLm0xU-alcef",
        "outputId": "dd8bfdcf-d664-4f74-cc11-728d6cd6cf2e"
      },
      "outputs": [
        {
          "output_type": "stream",
          "name": "stdout",
          "text": [
            "Distância entre P e Q: 7.68\n"
          ]
        }
      ],
      "source": [
        "#Exercicio 1.17\n",
        "#a)\n",
        "import numpy as np\n",
        "\n",
        "coord_p = np.array([-1, 4, 8])\n",
        "\n",
        "coord_q = np.array([2, -1, 3])\n",
        "\n",
        "dif = coord_q - coord_p\n",
        "\n",
        "soma_quad = np.sum(dif**2)\n",
        "\n",
        "dist = np.sqrt(soma_quad)\n",
        "\n",
        "print(\"Distância entre P e Q: {:.2f}\".format(dist))\n"
      ]
    },
    {
      "cell_type": "code",
      "execution_count": 214,
      "metadata": {
        "colab": {
          "base_uri": "https://localhost:8080/"
        },
        "id": "BoqyUtBVlceg",
        "outputId": "bc947916-305d-4555-9167-288a8c186089"
      },
      "outputs": [
        {
          "output_type": "stream",
          "name": "stdout",
          "text": [
            "Vetor distância de P até R:  [ 0 -2 -5]\n"
          ]
        }
      ],
      "source": [
        "#b)\n",
        "\n",
        "import numpy as np\n",
        "\n",
        "coord_p = np.array([-1, 4, 8])\n",
        "\n",
        "coord_r = np.array([-1, 2, 3])\n",
        "\n",
        "vetor_dist = coord_r - coord_p\n",
        "\n",
        "print(\"Vetor distância de P até R: \", vetor_dist)\n",
        "\n",
        "\n",
        "\n",
        "\n"
      ]
    },
    {
      "cell_type": "code",
      "execution_count": 215,
      "metadata": {
        "colab": {
          "base_uri": "https://localhost:8080/"
        },
        "id": "e5JUGZ3Tlceg",
        "outputId": "9495453f-92e9-45b2-d424-4d2f19881c76"
      },
      "outputs": [
        {
          "output_type": "stream",
          "name": "stdout",
          "text": [
            "Ângulo entre QP e QR: 42.57 graus\n"
          ]
        }
      ],
      "source": [
        "#c \n",
        "\n",
        "import numpy as np\n",
        "\n",
        "coord_p = np.array([-1, 4, 8])\n",
        "coord_q = np.array([2, -1, 3])\n",
        "coord_r = np.array([-1, 2, 3])\n",
        "\n",
        "vetor_qp = coord_p - coord_q\n",
        "vetor_qr = coord_r - coord_q\n",
        "\n",
        "prod_esc = np.dot(vetor_qp, vetor_qr)\n",
        "\n",
        "mod_qp = np.linalg.norm(vetor_qp)\n",
        "mod_qr = np.linalg.norm(vetor_qr)\n",
        "\n",
        "cos_ang = prod_esc / (mod_qp * mod_qr)\n",
        "\n",
        "ang_rad = np.arccos(cos_ang)\n",
        "\n",
        "ang_graus = np.degrees(ang_rad)\n",
        "\n",
        "print(\"Ângulo entre QP e QR: {:.2f} graus\".format(ang_graus))\n"
      ]
    },
    {
      "cell_type": "code",
      "execution_count": 216,
      "metadata": {
        "colab": {
          "base_uri": "https://localhost:8080/"
        },
        "id": "n9ovq3lPlceh",
        "outputId": "b545fe97-1c14-4e1a-99ac-c9ab5269d10b"
      },
      "outputs": [
        {
          "output_type": "stream",
          "name": "stdout",
          "text": [
            "Área do triângulo PQR: 11.02\n"
          ]
        }
      ],
      "source": [
        "#d\n",
        "\n",
        "import numpy as np\n",
        "\n",
        "coord_p = np.array([-1, 4, 8])\n",
        "coord_q = np.array([2, -1, 3])\n",
        "coord_r = np.array([-1, 2, 3])\n",
        "\n",
        "vetor_qp = coord_p - coord_q\n",
        "vetor_qr = coord_r - coord_q\n",
        "\n",
        "prod_vet = np.cross(vetor_qp, vetor_qr)\n",
        "\n",
        "area = 0.5 * np.linalg.norm(prod_vet)\n",
        "\n",
        "print(\"Área do triângulo PQR: {:.2f}\".format(area))\n"
      ]
    },
    {
      "cell_type": "code",
      "execution_count": 217,
      "metadata": {
        "colab": {
          "base_uri": "https://localhost:8080/"
        },
        "id": "PAlpEFkElceh",
        "outputId": "a2c72697-b2b4-4424-b5ea-6f9191d1937d"
      },
      "outputs": [
        {
          "output_type": "stream",
          "name": "stdout",
          "text": [
            "Perímetro do triângulo PQR: 17.31\n"
          ]
        }
      ],
      "source": [
        "#e\n",
        "\n",
        "import numpy as np\n",
        "\n",
        "coord_p = np.array([-1, 4, 8])\n",
        "coord_q = np.array([2, -1, 3])\n",
        "coord_r = np.array([-1, 2, 3])\n",
        "\n",
        "dist_pq = np.linalg.norm(coord_p - coord_q)\n",
        "dist_pr = np.linalg.norm(coord_p - coord_r)\n",
        "dist_qr = np.linalg.norm(coord_q - coord_r)\n",
        "\n",
        "perimetro = dist_pq + dist_pr + dist_qr\n",
        "\n",
        "print(\"Perímetro do triângulo PQR: {:.2f}\".format(perimetro))\n"
      ]
    },
    {
      "cell_type": "code",
      "execution_count": 218,
      "metadata": {
        "colab": {
          "base_uri": "https://localhost:8080/",
          "height": 38
        },
        "id": "7FWtutLflceh",
        "outputId": "891c6ccc-fba8-4522-839e-d81305599969"
      },
      "outputs": [
        {
          "output_type": "execute_result",
          "data": {
            "text/plain": [
              "Eq(-ax**2 + 12.0*ay**2 + 15.0*az**2, 0)"
            ],
            "text/latex": "$\\displaystyle - ax^{2} + 12.0 ay^{2} + 15.0 az^{2} = 0$"
          },
          "metadata": {},
          "execution_count": 218
        }
      ],
      "source": [
        "#Exercicio 1.18\n",
        "\n",
        "#a)\n",
        "\n",
        "from sympy import symbols, Eq, simplify\n",
        "\n",
        "x, y, z = symbols('x y z')\n",
        "A_1, A_2, A_3 = symbols('A_1 A_2 A_3')\n",
        "r = [x, y, z]\n",
        "\n",
        "A = [A_1, A_2, A_3]\n",
        "\n",
        "prod_esc = sum((r[i] - A[i]) * A[i] for i in range(3))\n",
        "\n",
        "eq = Eq(produto_escalar, 0)\n",
        "\n",
        "eq_simp = simplify(eq)\n",
        "\n",
        "eq_simp.evalf()\n",
        "\n"
      ]
    },
    {
      "cell_type": "code",
      "execution_count": 219,
      "metadata": {
        "colab": {
          "base_uri": "https://localhost:8080/"
        },
        "id": "8JfgaEqOlcei",
        "outputId": "3fba6d4c-3d14-4173-de1a-d6f3d780d3f4"
      },
      "outputs": [
        {
          "output_type": "stream",
          "name": "stdout",
          "text": [
            "O ponto está fora da esfera.\n"
          ]
        }
      ],
      "source": [
        "#b)\n",
        "\n",
        "import numpy as np\n",
        "\n",
        "x, y, z = 1, 2, 3\n",
        "\n",
        "h, k, l = 0, 0, 0\n",
        "r = 1\n",
        "\n",
        "dist = np.sqrt((x - h)**2 + (y - k)**2 + (z - l)**2) - r\n",
        "\n",
        "if dist < 0:\n",
        "    print(\"O ponto está dentro da esfera.\")\n",
        "elif dist == 0:\n",
        "    print(\"O ponto está na superfície da esfera.\")\n",
        "else:\n",
        "    print(\"O ponto está fora da esfera.\")\n",
        "\n",
        "#Logo não representa uma esfera, mas sim uma equação vetorial que não descreve uma superfície esférica."
      ]
    },
    {
      "cell_type": "code",
      "execution_count": 220,
      "metadata": {
        "id": "EhaYsaNylcei"
      },
      "outputs": [],
      "source": [
        "#c \n",
        "#Não consegui compreender a questão e desenvolvê-la"
      ]
    },
    {
      "cell_type": "code",
      "execution_count": 221,
      "metadata": {
        "colab": {
          "base_uri": "https://localhost:8080/",
          "height": 42
        },
        "id": "I0f0UDyulcei",
        "outputId": "5cc97413-2f71-43f4-bb7a-46029992b8e6"
      },
      "outputs": [
        {
          "output_type": "execute_result",
          "data": {
            "text/plain": [
              "(sin(θ2)**2 + cos(θ2)**2)**0.5"
            ],
            "text/latex": "$\\displaystyle \\left(\\sin^{2}{\\left(θ_{2} \\right)} + \\cos^{2}{\\left(θ_{2} \\right)}\\right)^{0.5}$"
          },
          "metadata": {},
          "execution_count": 221
        }
      ],
      "source": [
        "#Exercicio 1.19\n",
        "#a)\n",
        "\n",
        "import sympy as sp\n",
        "\n",
        "θ1, θ2 = sp.symbols('θ1 θ2')\n",
        "\n",
        "P = sp.cos(θ1) * sp.Matrix([1, 0]) + sp.sin(θ1) * sp.Matrix([0, 1])\n",
        "Q = sp.cos(θ2) * sp.Matrix([1, 0]) + sp.sin(θ2) * sp.Matrix([0, 1])\n",
        "\n",
        "P_modulo = sp.sqrt(P.dot(P))\n",
        "Q_modulo = sp.sqrt(Q.dot(Q))\n",
        "\n",
        "P_modulo.evalf()\n",
        "Q_modulo.evalf()"
      ]
    },
    {
      "cell_type": "code",
      "execution_count": 222,
      "metadata": {
        "colab": {
          "base_uri": "https://localhost:8080/"
        },
        "id": "yOLpGqyklcei",
        "outputId": "d177e650-84f3-4915-f932-d4680292263d"
      },
      "outputs": [
        {
          "output_type": "stream",
          "name": "stdout",
          "text": [
            "Fórmula para cos(θ2 - θ1): [cos(θ1 - θ2)]\n",
            "Fórmula para cos(θ2 + θ1): [-cos(θ1 - θ2)]\n"
          ]
        }
      ],
      "source": [
        "#b)\n",
        "import sympy as sp\n",
        "\n",
        "θ1, θ2 = sp.symbols('θ1 θ2')\n",
        "\n",
        "P = sp.cos(θ1) * sp.Matrix([1, 0]) + sp.sin(θ1) * sp.Matrix([0, 1])\n",
        "Q = sp.cos(θ2) * sp.Matrix([1, 0]) + sp.sin(θ2) * sp.Matrix([0, 1])\n",
        "\n",
        "prod_ponto = P.dot(Q)\n",
        "\n",
        "primeira_op = sp.cos(θ2 - θ1)\n",
        "formula_primeira_op = sp.solve(primeira_op - prod_ponto, primeira_op)\n",
        "\n",
        "segunda_op = sp.cos(θ2 + θ1)\n",
        "formula_segunda_op = sp.solve(segunda_op + prod_ponto, segunda_op)\n",
        "\n",
        "print(\"Fórmula para cos(θ2 - θ1):\", formula_primeira_op)\n",
        "print(\"Fórmula para cos(θ2 + θ1):\", formula_segunda_op)\n",
        "\n"
      ]
    },
    {
      "cell_type": "code",
      "execution_count": 223,
      "metadata": {
        "colab": {
          "base_uri": "https://localhost:8080/",
          "height": 56
        },
        "id": "t6SCbL8Glcej",
        "outputId": "79a19d0c-f042-4a2b-8d25-d84fba7f6be7"
      },
      "outputs": [
        {
          "output_type": "stream",
          "name": "stdout",
          "text": [
            "1/2 |P - Q| em função de θ: 0.5*cos(θ1 - θ2)\n"
          ]
        },
        {
          "output_type": "execute_result",
          "data": {
            "text/plain": [
              "0.5*cos(θ1 - θ2)"
            ],
            "text/latex": "$\\displaystyle 0.5 \\cos{\\left(θ_{1} - θ_{2} \\right)}$"
          },
          "metadata": {},
          "execution_count": 223
        }
      ],
      "source": [
        "#c)\n",
        "\n",
        "from sympy import symbols, cos, simplify\n",
        "\n",
        "θ1, θ2 = symbols('θ1 θ2')\n",
        "\n",
        "form_cos = cos(θ2 - θ1)\n",
        "\n",
        "expressao = 0.5 * form_cos\n",
        "\n",
        "expressao_simp = simplify(expressao)\n",
        "\n",
        "print(\"1/2 |P - Q| em função de θ:\", expressao_simp)\n",
        "expressao_simp.evalf()"
      ]
    },
    {
      "cell_type": "code",
      "execution_count": 224,
      "metadata": {
        "colab": {
          "base_uri": "https://localhost:8080/",
          "height": 78
        },
        "id": "72M1-hE8lcej",
        "outputId": "c15939ff-1af5-466d-f46a-34e608d41c53"
      },
      "outputs": [
        {
          "output_type": "execute_result",
          "data": {
            "text/plain": [
              "Matrix([\n",
              "[9.0],\n",
              "[  0],\n",
              "[3.0]])"
            ],
            "text/latex": "$\\displaystyle \\left[\\begin{matrix}9.0\\\\0\\\\3.0\\end{matrix}\\right]$"
          },
          "metadata": {},
          "execution_count": 224
        }
      ],
      "source": [
        "#Exercicio 1.20\n",
        "\n",
        "from sympy import Matrix, symbols\n",
        "\n",
        "x, y, z = symbols('x y z')\n",
        "r = Matrix([x, y, z])\n",
        "w = 3\n",
        "\n",
        "vetor_rot = Matrix([0, 3, 0]) \n",
        "ponto_rotação = Matrix([2, -3, 1])\n",
        "\n",
        "vetor_dist = r - ponto_rotação\n",
        "velocidade_em_P = vetor_rot.cross(vetor_dist)\n",
        "velocidade = velocidade_em_P.subs({x: 1, y: 3, z: 4})\n",
        "velocidade.evalf()"
      ]
    },
    {
      "cell_type": "code",
      "execution_count": 225,
      "metadata": {
        "colab": {
          "base_uri": "https://localhost:8080/"
        },
        "id": "iw6IK6uwlcej",
        "outputId": "a907d3ac-3670-4b8f-f761-d9c04e9815f8"
      },
      "outputs": [
        {
          "output_type": "stream",
          "name": "stdout",
          "text": [
            "A magnitude de A no ponto T(2,-1,3) é: sqrt(106)\n",
            "A magnitude de A no ponto T(2,-1,3) é: 10.3\n"
          ]
        }
      ],
      "source": [
        "#Exercicio 1.21\n",
        "#a)\n",
        "\n",
        "from sympy import symbols, Matrix\n",
        "\n",
        "x, y, z = symbols('x y z')\n",
        "\n",
        "vetor_A = Matrix([x**2 * y, -y*z, y*z**2])\n",
        "coord_T = Matrix([2, -1, 3])\n",
        "\n",
        "pontoT_vetor_A = vetor_A.subs({x: coord_T[0], y: coord_T[1], z: coord_T[2]}) \n",
        "\n",
        "magpontoT_vetor_A = pontoT_vetor_A.norm()\n",
        "\n",
        "print(\"A magnitude de A no ponto T(2,-1,3) é:\", magpontoT_vetor_A)\n",
        "print(\"A magnitude de A no ponto T(2,-1,3) é:\", magpontoT_vetor_A.evalf(3)) \n"
      ]
    },
    {
      "cell_type": "code",
      "execution_count": 226,
      "metadata": {
        "colab": {
          "base_uri": "https://localhost:8080/",
          "height": 113
        },
        "id": "2e0jDT05lcej",
        "outputId": "31b33016-7e3c-4b53-aae4-3b6299f72a0f"
      },
      "outputs": [
        {
          "output_type": "execute_result",
          "data": {
            "text/plain": [
              "Matrix([\n",
              "[5.6*x**2*y/(Abs(x**2*y)**2 + Abs(y*z)**2 + Abs(y*z**2)**2)**0.5],\n",
              "[  -5.6*y*z/(Abs(x**2*y)**2 + Abs(y*z)**2 + Abs(y*z**2)**2)**0.5],\n",
              "[5.6*y*z**2/(Abs(x**2*y)**2 + Abs(y*z)**2 + Abs(y*z**2)**2)**0.5]])"
            ],
            "text/latex": "$\\displaystyle \\left[\\begin{matrix}\\frac{5.6 x^{2} y}{\\left(\\left|{x^{2} y}\\right|^{2} + \\left|{y z}\\right|^{2} + \\left|{y z^{2}}\\right|^{2}\\right)^{0.5}}\\\\- \\frac{5.6 y z}{\\left(\\left|{x^{2} y}\\right|^{2} + \\left|{y z}\\right|^{2} + \\left|{y z^{2}}\\right|^{2}\\right)^{0.5}}\\\\\\frac{5.6 y z^{2}}{\\left(\\left|{x^{2} y}\\right|^{2} + \\left|{y z}\\right|^{2} + \\left|{y z^{2}}\\right|^{2}\\right)^{0.5}}\\end{matrix}\\right]$"
          },
          "metadata": {},
          "execution_count": 226
        }
      ],
      "source": [
        "#b)\n",
        "\n",
        "from sympy import symbols, Matrix\n",
        "\n",
        "x, y, z = symbols('x y z')\n",
        "vetor_A = Matrix([x**2 * y, -y*z, y*z**2])\n",
        "\n",
        "coord_T = Matrix([2, -1, 3])\n",
        "\n",
        "S = coord_T + 5.6 * vetor_A / vetor_A.norm()\n",
        "\n",
        "vetor_distancia_TS = S - coord_T\n",
        "\n",
        "vetor_distancia_TS.evalf()"
      ]
    },
    {
      "cell_type": "code",
      "execution_count": 227,
      "metadata": {
        "colab": {
          "base_uri": "https://localhost:8080/",
          "height": 113
        },
        "id": "BzMeGfe7lcek",
        "outputId": "5bfdd7ed-b957-412a-9367-d4ff186377b3"
      },
      "outputs": [
        {
          "output_type": "execute_result",
          "data": {
            "text/plain": [
              "Matrix([\n",
              "[5.6*x**2*y/(Abs(x**2*y)**2 + Abs(y*z)**2 + Abs(y*z**2)**2)**0.5 + 2.0],\n",
              "[  -5.6*y*z/(Abs(x**2*y)**2 + Abs(y*z)**2 + Abs(y*z**2)**2)**0.5 - 1.0],\n",
              "[5.6*y*z**2/(Abs(x**2*y)**2 + Abs(y*z)**2 + Abs(y*z**2)**2)**0.5 + 3.0]])"
            ],
            "text/latex": "$\\displaystyle \\left[\\begin{matrix}\\frac{5.6 x^{2} y}{\\left(\\left|{x^{2} y}\\right|^{2} + \\left|{y z}\\right|^{2} + \\left|{y z^{2}}\\right|^{2}\\right)^{0.5}} + 2.0\\\\- \\frac{5.6 y z}{\\left(\\left|{x^{2} y}\\right|^{2} + \\left|{y z}\\right|^{2} + \\left|{y z^{2}}\\right|^{2}\\right)^{0.5}} - 1.0\\\\\\frac{5.6 y z^{2}}{\\left(\\left|{x^{2} y}\\right|^{2} + \\left|{y z}\\right|^{2} + \\left|{y z^{2}}\\right|^{2}\\right)^{0.5}} + 3.0\\end{matrix}\\right]$"
          },
          "metadata": {},
          "execution_count": 227
        }
      ],
      "source": [
        "#c)\n",
        "\n",
        "from sympy import symbols, Matrix\n",
        "\n",
        "x, y, z = symbols('x y z')\n",
        "\n",
        "vetor_A = Matrix([x**2 * y, -y*z, y*z**2])\n",
        "\n",
        "coord_T = Matrix([2, -1, 3])\n",
        "\n",
        "S = coord_T + 5.6 * vetor_A / vetor_A.norm()\n",
        "\n",
        "vetor_posicao_S = S\n",
        "vetor_posicao_S.evalf()\n"
      ]
    },
    {
      "cell_type": "code",
      "execution_count": 228,
      "metadata": {
        "colab": {
          "base_uri": "https://localhost:8080/"
        },
        "id": "wYNr4sS3lcek",
        "outputId": "eedeca0d-ed1c-4596-ac15-e3f404452026"
      },
      "outputs": [
        {
          "output_type": "stream",
          "name": "stdout",
          "text": [
            "Magnitude de E em (1, 2, 3): 6.6332495807108\n"
          ]
        }
      ],
      "source": [
        "#Exercicio 1.22\n",
        "#a)\n",
        "import numpy as np\n",
        "\n",
        "ponto = np.array([1, 2, 3])\n",
        "\n",
        "def E(x, y, z):\n",
        "    Ex = 2*x\n",
        "    Ey = y\n",
        "    Ez = y*z\n",
        "    return np.array([Ex, Ey, Ez])\n",
        "\n",
        "valor_E = E(ponto[0], ponto[1], ponto[2])\n",
        "E_mag = np.linalg.norm(valor_E)\n",
        "\n",
        "print(\"Magnitude de E em (1, 2, 3):\", E_mag)\n"
      ]
    },
    {
      "cell_type": "code",
      "source": [],
      "metadata": {
        "id": "zbZ2Qcf4mGFA"
      },
      "execution_count": 228,
      "outputs": []
    },
    {
      "cell_type": "code",
      "execution_count": 229,
      "metadata": {
        "colab": {
          "base_uri": "https://localhost:8080/"
        },
        "id": "F55juDiblcek",
        "outputId": "84b40cb9-6161-4b12-c013-ea14a6029046"
      },
      "outputs": [
        {
          "output_type": "stream",
          "name": "stdout",
          "text": [
            "Componente de E ao longo de F em (1, 2, 3): 4.27617987059879\n"
          ]
        }
      ],
      "source": [
        "#b)\n",
        "import numpy as np\n",
        "\n",
        "ponto = np.array([1, 2, 3])\n",
        "\n",
        "def E(x, y, z):\n",
        "    Ex = 2*x\n",
        "    Ey = y\n",
        "    Ez = y*z\n",
        "    return np.array([Ex, Ey, Ez])\n",
        "\n",
        "def F(x, y, z):\n",
        "    Fx = x*y\n",
        "    Fy = -y**2\n",
        "    Fz = x*y*z\n",
        "    return np.array([Fx, Fy, Fz])\n",
        "\n",
        "valor_E = E(ponto[0], ponto[1], ponto[2])\n",
        "valor_F = F(ponto[0], ponto[1], ponto[2])\n",
        "prod_ponto_EF = np.dot(valor_E, valor_F)\n",
        "magF = np.linalg.norm(valor_F)\n",
        "comp_E_em_F = prod_ponto_EF / magF\n",
        "\n",
        "print(\"Componente de E ao longo de F em (1, 2, 3):\", comp_E_em_F)\n",
        "\n"
      ]
    },
    {
      "cell_type": "code",
      "execution_count": 230,
      "metadata": {
        "colab": {
          "base_uri": "https://localhost:8080/"
        },
        "id": "YQLlS74Ilcek",
        "outputId": "c6877415-a1ee-4b23-f441-9a619739fb7b"
      },
      "outputs": [
        {
          "output_type": "stream",
          "name": "stdout",
          "text": [
            "O vetor perpendicular com norma fica:  [ 0.9486833   0.         -0.31622777]\n"
          ]
        }
      ],
      "source": [
        "#c)\n",
        "\n",
        "import numpy as np\n",
        "\n",
        "ponto = np.array([1, 2, 3])\n",
        "\n",
        "def E(x, y, z):\n",
        "    Ex = 2*x\n",
        "    Ey = y\n",
        "    Ez = y*z\n",
        "    return np.array([Ex, Ey, Ez])\n",
        "\n",
        "def F(x, y, z):\n",
        "    Fx = x*y\n",
        "    Fy = -y**2\n",
        "    Fz = x*y*z\n",
        "    return np.array([Fx, Fy, Fz])\n",
        "\n",
        "valor_E = E(ponto[0], ponto[1], ponto[2])\n",
        "valor_F = F(ponto[0], ponto[1], ponto[2])\n",
        "\n",
        "vetor_perp = np.cross(valor_E, valor_F)\n",
        "vetor_norma = vetor_perp / np.linalg.norm(vetor_perp)\n",
        "\n",
        "print(\"O vetor perpendicular com norma fica: \", vetor_norma)\n"
      ]
    }
  ],
  "metadata": {
    "kernelspec": {
      "display_name": "Python 3",
      "language": "python",
      "name": "python3"
    },
    "language_info": {
      "codemirror_mode": {
        "name": "ipython",
        "version": 3
      },
      "file_extension": ".py",
      "mimetype": "text/x-python",
      "name": "python",
      "nbconvert_exporter": "python",
      "pygments_lexer": "ipython3",
      "version": "3.10.2"
    },
    "orig_nbformat": 4,
    "colab": {
      "provenance": [],
      "include_colab_link": true
    }
  },
  "nbformat": 4,
  "nbformat_minor": 0
}