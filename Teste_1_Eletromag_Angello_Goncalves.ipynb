{
  "nbformat": 4,
  "nbformat_minor": 0,
  "metadata": {
    "colab": {
      "provenance": [],
      "authorship_tag": "ABX9TyN4zxPWpHxHWWf4OL+v2Sre",
      "include_colab_link": true
    },
    "kernelspec": {
      "name": "python3",
      "display_name": "Python 3"
    },
    "language_info": {
      "name": "python"
    }
  },
  "cells": [
    {
      "cell_type": "markdown",
      "metadata": {
        "id": "view-in-github",
        "colab_type": "text"
      },
      "source": [
        "<a href=\"https://colab.research.google.com/github/angeellogabriel/Eletromag-Lista1/blob/main/Teste_1_Eletromag_Angello_Goncalves.ipynb\" target=\"_parent\"><img src=\"https://colab.research.google.com/assets/colab-badge.svg\" alt=\"Open In Colab\"/></a>"
      ]
    },
    {
      "cell_type": "markdown",
      "source": [
        "# **Questão 1:**"
      ],
      "metadata": {
        "id": "edH91xhS11jz"
      }
    },
    {
      "cell_type": "code",
      "execution_count": 154,
      "metadata": {
        "id": "OnfG_BNsvEdv"
      },
      "outputs": [],
      "source": [
        "import sympy as sp\n",
        "from sympy import symbols, Integral, pi, cos, sin, Matrix\n",
        "from IPython.display import display, Math, Latex\n",
        "\n",
        "#aqui criamos os simbolos e o vetor\n",
        "p,z,phi = symbols(['p', 'z', 'phi'])\n",
        "F = Matrix([p**2*sin(phi),\n",
        "               z*cos(phi),\n",
        "               p*z])\n",
        "\n"
      ]
    },
    {
      "cell_type": "code",
      "source": [
        "#lateral interna\n",
        "ds1 = Matrix([p,0,0])\n",
        "s1 = [(p,1)]\n",
        "lim1 = [(phi,0,2*pi), (z,-1,1)]\n",
        "psi1 = Integral(F.dot(ds1).subs(s1),lim1[0],lim1[1])\n",
        "display(Math(latex(psi1) + '=' + latex(psi1.doit())))"
      ],
      "metadata": {
        "colab": {
          "base_uri": "https://localhost:8080/",
          "height": 81
        },
        "id": "E5BvC_rgM6I_",
        "outputId": "5d298bb4-9071-41d0-e0aa-765b112adfb3"
      },
      "execution_count": 155,
      "outputs": [
        {
          "output_type": "display_data",
          "data": {
            "text/plain": [
              "<IPython.core.display.Math object>"
            ],
            "text/latex": "$\\displaystyle \\int\\limits_{-1}^{1}\\int\\limits_{0}^{2 \\pi} \\sin{\\left(\\phi \\right)}\\, d\\phi\\, dz=0$"
          },
          "metadata": {}
        }
      ]
    },
    {
      "cell_type": "code",
      "source": [
        "#lateral externa\n",
        "ds2 = Matrix([p,0,0])\n",
        "s2 = [(p,1)]\n",
        "lim2 = [(phi,0,2*pi), (z,-1,1)]\n",
        "psi2 = Integral(F.dot(ds2).subs(s2),lim2[0],lim2[1])\n",
        "display(Math(latex(psi2) + '=' + latex(psi2.doit())))"
      ],
      "metadata": {
        "colab": {
          "base_uri": "https://localhost:8080/",
          "height": 81
        },
        "id": "LyviA36IM8tx",
        "outputId": "b9864429-2b8b-49af-c24e-7d9a5d2f6f13"
      },
      "execution_count": 156,
      "outputs": [
        {
          "output_type": "display_data",
          "data": {
            "text/plain": [
              "<IPython.core.display.Math object>"
            ],
            "text/latex": "$\\displaystyle \\int\\limits_{-1}^{1}\\int\\limits_{0}^{2 \\pi} \\sin{\\left(\\phi \\right)}\\, d\\phi\\, dz=0$"
          },
          "metadata": {}
        }
      ]
    },
    {
      "cell_type": "code",
      "source": [
        "#topo\n",
        "ds3 = Matrix([0,0,-rho])\n",
        "s3 = [(z,-1)]\n",
        "lim3 = [(phi,0,2*pi), (rho,1,2)]\n",
        "psi3 = Integral(F.dot(ds3).subs(s3),lim3[0],lim3[1])\n",
        "display(Math(latex(psi3) + '=' + latex(psi3.doit())))"
      ],
      "metadata": {
        "colab": {
          "base_uri": "https://localhost:8080/",
          "height": 80
        },
        "id": "hG8-TtGfObsS",
        "outputId": "dd327e15-534d-4ddc-8441-ddebf6c6e530"
      },
      "execution_count": 157,
      "outputs": [
        {
          "output_type": "display_data",
          "data": {
            "text/plain": [
              "<IPython.core.display.Math object>"
            ],
            "text/latex": "$\\displaystyle \\int\\limits_{1}^{2}\\int\\limits_{0}^{2 \\pi} p \\rho\\, d\\phi\\, d\\rho=3 \\pi p$"
          },
          "metadata": {}
        }
      ]
    },
    {
      "cell_type": "code",
      "source": [
        "#fundo\n",
        "ds4 = Matrix([0,0,-rho])\n",
        "s4 = [(z,-1)]\n",
        "lim4 = [(phi,0,2*pi), (rho,1,2)]\n",
        "psi4 = Integral(F.dot(ds4).subs(s4),lim4[0],lim4[1])\n",
        "display(Math(latex(psi4) + '=' + latex(psi4.doit())))"
      ],
      "metadata": {
        "colab": {
          "base_uri": "https://localhost:8080/",
          "height": 80
        },
        "id": "_vYRjq0nNBD2",
        "outputId": "ba50a55c-2827-4774-e804-d5c1d513add8"
      },
      "execution_count": 158,
      "outputs": [
        {
          "output_type": "display_data",
          "data": {
            "text/plain": [
              "<IPython.core.display.Math object>"
            ],
            "text/latex": "$\\displaystyle \\int\\limits_{1}^{2}\\int\\limits_{0}^{2 \\pi} p \\rho\\, d\\phi\\, d\\rho=3 \\pi p$"
          },
          "metadata": {}
        }
      ]
    },
    {
      "cell_type": "markdown",
      "source": [
        "# **Questão 2:**"
      ],
      "metadata": {
        "id": "_Eu3gBPx2jwQ"
      }
    },
    {
      "cell_type": "code",
      "source": [
        "import sympy as sp\n",
        "from sympy import symbols, sin, cos, sqrt, pi\n",
        "x,y,z,rho, phi = symbols('x y z rho phi')\n",
        "phi = 0.2*pi\n",
        "D_em_cart = x/(x**2+y**2)**(3/2) * cos(phi) + y/(x**2 + y**2)**(3/2) * sin(phi)\n",
        "rho_cil = sqrt(x**2 + y**2)\n",
        "\n",
        "#faltou terminar "
      ],
      "metadata": {
        "id": "YxDYHAl914vD"
      },
      "execution_count": 159,
      "outputs": []
    },
    {
      "cell_type": "markdown",
      "source": [
        "# **Questão 3:**"
      ],
      "metadata": {
        "id": "MXS83eq3Ffsi"
      }
    },
    {
      "cell_type": "code",
      "source": [
        "from sympy import symbols, sin, cos, pi, sqrt, simplify\n",
        "#a)\n",
        "\n",
        "p,phi,z = symbols('p phi z')\n",
        "\n",
        "#definindo o vetor H em coord cilin\n",
        "H_p = 5*p*sin(phi)\n",
        "H_phi = -p*z*cos(phi)\n",
        "H_z = 2*p\n",
        "#Utilizando os valores substituindo no valor de P\n",
        "\n",
        "H_p_no_valor = H_p.subs([(p,2), (phi, 30*pi/180)])\n",
        "H_phi_no_valor = H_phi.subs([(p,2), (phi, 30*pi/180)])\n",
        "H_z_no_valor = H_z.subs([(p,2),(z,-1)])\n",
        "\n",
        "#modulo do vetor H no ponto P \n",
        "H_mod = sqrt(H_p_no_valor**2 + H_phi_no_valor**2 + H_z_no_valor**2)\n",
        "\n",
        "#vetor unitario em H ao longo do ponto P\n",
        "\n",
        "H_unit_p, H_unit_phi, H_unit_z = H_p_no_valor / H_mod, H_phi_no_valor / H_mod, H_z_no_valor / H_mod \n",
        "#Conversão para coord cartesianas\n",
        "\n",
        "H_unit_x, H_unit_y, H_unit_z = H_unit_p*cos(30*pi/180) - H_unit_phi*sin(30*pi/180), H_unit_p*sin(30*pi/180) + H_unit_phi*cos(30*pi/180), H_unit_z\n",
        "H_unit_x = simplify(H_unit_x)\n",
        "H_unit_y = simplify(H_unit_y)\n",
        "H_unit_z = simplify(H_unit_z)\n",
        "\n",
        "print(\"O vetor unitário de H em P(2,30°,-1):\")\n",
        "print(\"H_unit = {} ax + {} ay + {} az\".format(H_unit_x, H_unit_y, H_unit_z))\n"
      ],
      "metadata": {
        "colab": {
          "base_uri": "https://localhost:8080/"
        },
        "id": "On8o0CdDBCzh",
        "outputId": "2d6c28fd-7348-49f1-b8f4-9ef9dbee84d1"
      },
      "execution_count": 160,
      "outputs": [
        {
          "output_type": "stream",
          "name": "stdout",
          "text": [
            "O vetor unitário de H em P(2,30°,-1):\n",
            "H_unit = sqrt(3)*(z + 5)/(2*sqrt(3*z**2 + 41)) ax + (5 - 3*z)/(2*sqrt(3*z**2 + 41)) ay + 4/sqrt(3*z**2 + 41) az\n"
          ]
        }
      ]
    },
    {
      "cell_type": "code",
      "source": [
        "import numpy as np\n",
        "from sympy import symbols, sin, cos, pi, sqrt\n",
        "#b)\n",
        "\n",
        "p,phi,z = symbols('p phi z')\n",
        "\n",
        "#definindo o vetor H \n",
        "\n",
        "H = np.array([5*p*sin(phi)*cos(30*pi/180), -p*z*cos(phi)*sin(30*pi/180), 2*p])\n",
        "\n",
        "#calculando a componente de H na direção de ax\n",
        "\n",
        "a_x = np.array([1,0,0]) # esse é o vetor unitario na direção de ax\n",
        "comp_paralela = np.dot(H,a_x) / np.linalg.norm(a_x)\n",
        "\n",
        "#usando no ponto P\n",
        "\n",
        "comp_paralela_no_ponto = comp_paralela.subs([(p,2), (phi, 30*pi/180), (z,-1)])\n",
        "\n",
        "print(\"A componente de H na direção de ax: {}\".format(comp_paralela))\n",
        "print(\"A componente de H na direção de ax no ponto P(2,30°,-1): {}\".format(comp_paralela_no_ponto))"
      ],
      "metadata": {
        "colab": {
          "base_uri": "https://localhost:8080/"
        },
        "id": "BmtOhydNFhn_",
        "outputId": "dfc6617c-2783-416d-8855-e75be26e9b7e"
      },
      "execution_count": 161,
      "outputs": [
        {
          "output_type": "stream",
          "name": "stdout",
          "text": [
            "A componente de H na direção de ax: 2.5*sqrt(3)*p*sin(phi)\n",
            "A componente de H na direção de ax no ponto P(2,30°,-1): 2.5*sqrt(3)\n"
          ]
        }
      ]
    },
    {
      "cell_type": "code",
      "source": [
        "\n",
        "from sympy import symbols, sin, cos, pi, sqrt\n",
        "#c)\n",
        "\n",
        "p,phi,z = symbols('p phi z')\n",
        "\n",
        "#definindo o vetor H \n",
        "p = 2\n",
        "phi = 30*pi/180\n",
        "\n",
        "H = 5*p*sin(phi)\n",
        "H"
      ],
      "metadata": {
        "colab": {
          "base_uri": "https://localhost:8080/",
          "height": 37
        },
        "id": "PTSgDmkaJY76",
        "outputId": "391e0f60-8596-4afa-a9fa-4d89ff3750af"
      },
      "execution_count": 162,
      "outputs": [
        {
          "output_type": "execute_result",
          "data": {
            "text/plain": [
              "5"
            ],
            "text/latex": "$\\displaystyle 5$"
          },
          "metadata": {},
          "execution_count": 162
        }
      ]
    },
    {
      "cell_type": "code",
      "source": [
        "#d) \n",
        "import sympy as sp\n",
        "from sympy import symbols, sin, cos, pi, sqrt\n",
        "\n",
        "p,phi,z = symbols('p phi z')\n",
        "\n",
        "#definindo o vetor H em coord cilin\n",
        "H_p = 5*p*sin(phi)\n",
        "H_phi = -p*z*cos(phi)\n",
        "H_z = 2*p\n",
        "\n",
        "H_p_no_valor = H_p.subs([(p,2), (phi, 30*pi/180)])\n",
        "H_phi_no_valor = H_phi.subs([(p,2), (phi, 30*pi/180)])\n",
        "H_z_no_valor = H_z.subs([(p,2),(phi, 30*pi/180), (z,-1)])\n",
        "\n",
        "H_tg = H_p_no_valor*cos(30*pi/180) - H_phi_no_valor*sin(30*pi/180)\n",
        "\n",
        "print(\"A componente tangencial de H no ponto P(2,30°,-1) = {}\".format(H_tg))"
      ],
      "metadata": {
        "colab": {
          "base_uri": "https://localhost:8080/"
        },
        "id": "IaxLXKMfRy9h",
        "outputId": "6ab59028-fc7f-4d7d-c49e-c94bfaebf968"
      },
      "execution_count": 163,
      "outputs": [
        {
          "output_type": "stream",
          "name": "stdout",
          "text": [
            "A componente tangencial de H no ponto P(2,30°,-1) = sqrt(3)*z/2 + 5*sqrt(3)/2\n"
          ]
        }
      ]
    }
  ]
}